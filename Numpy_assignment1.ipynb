{
 "cells": [
  {
   "cell_type": "code",
   "execution_count": null,
   "id": "affd9819-3851-4408-a206-acedfe3609eb",
   "metadata": {},
   "outputs": [],
   "source": [
    "#Solution 1"
   ]
  },
  {
   "cell_type": "code",
   "execution_count": null,
   "id": "e7be3e1b-33d0-46d3-b872-1864b258a39c",
   "metadata": {},
   "outputs": [],
   "source": [
    "#A Python library is a collection of pre-written code and functions that extend the capabilities of Python. These libraries provide a wide range of functionalities and tools for various purposes, such as data analysis, machine learning, web development, scientific computing, and more.\n",
    "\n",
    " #why we use Python libraries:\n",
    "  #      1.Reuse of code:\n",
    "   #     2.Efficiency\n",
    "    #    3.Specialized functionalities"
   ]
  },
  {
   "cell_type": "code",
   "execution_count": null,
   "id": "124fc642-ea66-406b-867b-13a9567cca57",
   "metadata": {},
   "outputs": [],
   "source": [
    "#Solution 2"
   ]
  },
  {
   "cell_type": "code",
   "execution_count": null,
   "id": "16dad9a4-3ec4-4cf7-9ff2-93c5fcb3105c",
   "metadata": {},
   "outputs": [],
   "source": [
    "#NumPy arrays: All elements must be of the same data type (like all integers or all floats).\n",
    "#Python lists: You can have mixed data types in the same list (like integers, floats, strings)."
   ]
  },
  {
   "cell_type": "code",
   "execution_count": null,
   "id": "fff21cda-0e53-4b75-b928-1db52c5ec863",
   "metadata": {},
   "outputs": [],
   "source": [
    "#Solition 3"
   ]
  },
  {
   "cell_type": "code",
   "execution_count": 2,
   "id": "f5d10cd8-3569-4c81-94c6-f918ace62330",
   "metadata": {},
   "outputs": [
    {
     "name": "stdout",
     "output_type": "stream",
     "text": [
      "Shape: (3, 4)\n",
      "Size: 12\n",
      "Dimension: 2\n"
     ]
    }
   ],
   "source": [
    "import numpy as np\n",
    "array = np.array([[1, 2, 3, 4],\n",
    "                  [5, 6, 7, 8],\n",
    "                  [9, 10, 11, 12]])\n",
    "\n",
    "\n",
    "shape = array.shape\n",
    "size = array.size\n",
    "dimension = array.ndim\n",
    "\n",
    "print(\"Shape:\", shape)\n",
    "print(\"Size:\", size)\n",
    "print(\"Dimension:\", dimension)\n"
   ]
  },
  {
   "cell_type": "code",
   "execution_count": null,
   "id": "13391dd4-311f-40e0-8074-b2de93cd3522",
   "metadata": {},
   "outputs": [],
   "source": [
    "#Solution 4"
   ]
  },
  {
   "cell_type": "code",
   "execution_count": 3,
   "id": "bebee130-8dcb-4b28-96c6-5047da92004e",
   "metadata": {},
   "outputs": [
    {
     "name": "stdout",
     "output_type": "stream",
     "text": [
      "[1, 2, 3, 4]\n"
     ]
    }
   ],
   "source": [
    "array = [\n",
    "    [1, 2, 3, 4],\n",
    "    [5, 6, 7, 8],\n",
    "    [9, 10, 11, 12]\n",
    "]\n",
    "\n",
    "first_row = array[0]\n",
    "print(first_row)\n"
   ]
  },
  {
   "cell_type": "code",
   "execution_count": null,
   "id": "849055b7-f8d7-44e9-ba26-b979b9bb0f37",
   "metadata": {},
   "outputs": [],
   "source": [
    "#Solution 5"
   ]
  },
  {
   "cell_type": "code",
   "execution_count": 4,
   "id": "d83fd614-a8a3-4e14-8f94-953b99d232a8",
   "metadata": {},
   "outputs": [
    {
     "name": "stdout",
     "output_type": "stream",
     "text": [
      "12\n"
     ]
    }
   ],
   "source": [
    "import numpy as np\n",
    "\n",
    "array = np.array([[1, 2, 3, 4],\n",
    "                  [5, 6, 7, 8],\n",
    "                  [9, 10, 11, 12]])\n",
    "\n",
    "element = array[2, 3]\n",
    "print(element)\n"
   ]
  },
  {
   "cell_type": "code",
   "execution_count": null,
   "id": "5cf57584-6da3-4ca4-bdc5-31b450c56013",
   "metadata": {},
   "outputs": [],
   "source": [
    "#Solution 6"
   ]
  },
  {
   "cell_type": "code",
   "execution_count": 5,
   "id": "64e17eab-97c4-4107-bc7f-b5e6fb9a344a",
   "metadata": {},
   "outputs": [
    {
     "name": "stdout",
     "output_type": "stream",
     "text": [
      "[[ 2  4]\n",
      " [ 6  8]\n",
      " [10 12]]\n"
     ]
    }
   ],
   "source": [
    "import numpy as np\n",
    "\n",
    "array = np.array([[1, 2, 3, 4],\n",
    "                  [5, 6, 7, 8],\n",
    "                  [9, 10, 11, 12]])\n",
    "\n",
    "odd_indexed_elements = array[:, 1::2]  \n",
    "print(odd_indexed_elements)\n"
   ]
  },
  {
   "cell_type": "code",
   "execution_count": null,
   "id": "bca4fea9-978f-4870-afa5-b30cd6734224",
   "metadata": {},
   "outputs": [],
   "source": [
    "#Solution 7"
   ]
  },
  {
   "cell_type": "code",
   "execution_count": 6,
   "id": "0e728ed4-cb38-49e5-a5fc-8b6bf504bf70",
   "metadata": {},
   "outputs": [
    {
     "name": "stdout",
     "output_type": "stream",
     "text": [
      "[[0.02638381 0.30442871 0.59660704]\n",
      " [0.62772773 0.0358603  0.1922432 ]\n",
      " [0.47452431 0.59420929 0.1912933 ]]\n"
     ]
    }
   ],
   "source": [
    "import numpy as np\n",
    "\n",
    "random_matrix = np.random.rand(3, 3)\n",
    "print(random_matrix)\n"
   ]
  },
  {
   "cell_type": "code",
   "execution_count": null,
   "id": "9b15ef8b-f745-4602-b1f9-0b82f8ea459c",
   "metadata": {},
   "outputs": [],
   "source": [
    "#Solution 8"
   ]
  },
  {
   "cell_type": "code",
   "execution_count": null,
   "id": "9d97cb3d-a08f-43aa-8ff8-76a917518b69",
   "metadata": {},
   "outputs": [],
   "source": [
    "#np.random.rand - it creates and array of specified shape and fills it with random values as per uniform distribution. values will be in [0,1)interval.\n",
    "                                                                                                                                         \n",
    "#np.random.randn -it creates and array of specified shape and fills it with random values as per standard normal distribution.                \n",
    "                    "
   ]
  },
  {
   "cell_type": "code",
   "execution_count": null,
   "id": "f7fadc96-d723-4f94-9124-505d6cdac19c",
   "metadata": {},
   "outputs": [],
   "source": [
    "#solution 9"
   ]
  },
  {
   "cell_type": "code",
   "execution_count": 7,
   "id": "e98b2742-c0b3-4585-a8a1-5605622d370e",
   "metadata": {},
   "outputs": [
    {
     "name": "stdout",
     "output_type": "stream",
     "text": [
      "[[[ 1  2  3  4]\n",
      "  [ 5  6  7  8]\n",
      "  [ 9 10 11 12]]]\n"
     ]
    }
   ],
   "source": [
    "import numpy as np\n",
    "array = np.array([[1, 2, 3, 4],\n",
    "                  [5, 6, 7, 8],\n",
    "                  [9, 10, 11, 12]])\n",
    "new_array = np.expand_dims(array, axis=0)\n",
    "\n",
    "print(new_array)\n"
   ]
  },
  {
   "cell_type": "code",
   "execution_count": null,
   "id": "eede0411-5049-4cec-96fb-d302b14f09aa",
   "metadata": {},
   "outputs": [],
   "source": [
    "#Solution 10"
   ]
  },
  {
   "cell_type": "code",
   "execution_count": 8,
   "id": "3e8c999e-1191-42e5-94f4-ff778ea2ca0e",
   "metadata": {},
   "outputs": [
    {
     "name": "stdout",
     "output_type": "stream",
     "text": [
      "[[ 1  5  9]\n",
      " [ 2  6 10]\n",
      " [ 3  7 11]\n",
      " [ 4  8 12]]\n"
     ]
    }
   ],
   "source": [
    "import numpy as np\n",
    "array = np.array([[1, 2, 3, 4],\n",
    "                  [5, 6, 7, 8],\n",
    "                  [9, 10, 11, 12]])\n",
    "transposed_array = np.transpose(array)\n",
    "print(transposed_array)\n"
   ]
  },
  {
   "cell_type": "code",
   "execution_count": null,
   "id": "c79bef88-6a2d-43f2-8515-96b72181d9b5",
   "metadata": {},
   "outputs": [],
   "source": [
    "#Solution 11(1)"
   ]
  },
  {
   "cell_type": "code",
   "execution_count": 9,
   "id": "9ae49131-4907-47e5-9e60-9a0840bc6f03",
   "metadata": {},
   "outputs": [
    {
     "name": "stdout",
     "output_type": "stream",
     "text": [
      "[[  1   4   9  16]\n",
      " [ 25  36  49  64]\n",
      " [ 81 100 121 144]]\n"
     ]
    }
   ],
   "source": [
    "import numpy as np\n",
    "A2 = np.array([[1, 2, 3, 4],\n",
    "               [5, 6, 7, 8],\n",
    "               [9, 10, 11, 12]])\n",
    "\n",
    "B2 = np.array([[1, 2, 3, 4],\n",
    "               [5, 6, 7, 8],\n",
    "               [9, 10, 11, 12]])\n",
    "result = A2 * B2\n",
    "\n",
    "print(result)\n"
   ]
  },
  {
   "cell_type": "code",
   "execution_count": null,
   "id": "7f7afa39-f8aa-4d87-9962-48af7ef59b2c",
   "metadata": {},
   "outputs": [],
   "source": [
    "#Solution 11(2)"
   ]
  },
  {
   "cell_type": "code",
   "execution_count": 10,
   "id": "b7d4ac87-2226-435d-a68e-155ed66e6b8f",
   "metadata": {},
   "outputs": [
    {
     "name": "stdout",
     "output_type": "stream",
     "text": [
      "[[ 30  70 110]\n",
      " [ 70 174 278]\n",
      " [110 278 446]]\n"
     ]
    }
   ],
   "source": [
    "import numpy as np\n",
    "A2 = np.array([[1, 2, 3, 4],\n",
    "               [5, 6, 7, 8],\n",
    "               [9, 10, 11, 12]])\n",
    "\n",
    "B2 = np.array([[1, 2, 3, 4],\n",
    "               [5, 6, 7, 8],\n",
    "               [9, 10, 11, 12]])\n",
    "result = np.dot(A2, B2.T)  \n",
    "\n",
    "print(result)\n"
   ]
  },
  {
   "cell_type": "code",
   "execution_count": null,
   "id": "3a416e87-849d-4535-ab13-a586c2cae84f",
   "metadata": {},
   "outputs": [],
   "source": [
    "#solution11(3)"
   ]
  },
  {
   "cell_type": "code",
   "execution_count": 11,
   "id": "cbbefd2b-5a2a-4530-b6fd-d935dd2b24cd",
   "metadata": {},
   "outputs": [
    {
     "name": "stdout",
     "output_type": "stream",
     "text": [
      "[[ 2  4  6  8]\n",
      " [10 12 14 16]\n",
      " [18 20 22 24]]\n"
     ]
    }
   ],
   "source": [
    "import numpy as np\n",
    "A2 = np.array([[1, 2, 3, 4],\n",
    "               [5, 6, 7, 8],\n",
    "               [9, 10, 11, 12]])\n",
    "\n",
    "B2 = np.array([[1, 2, 3, 4],\n",
    "               [5, 6, 7, 8],\n",
    "               [9, 10, 11, 12]])\n",
    "add = A2+B2\n",
    "print(add)"
   ]
  },
  {
   "cell_type": "code",
   "execution_count": null,
   "id": "c0267ffc-6704-401e-a11d-4ba0b8b5d637",
   "metadata": {},
   "outputs": [],
   "source": [
    "#Solution 11(4)"
   ]
  },
  {
   "cell_type": "code",
   "execution_count": 13,
   "id": "3172865e-d202-44e4-b537-e66b05fe51e2",
   "metadata": {},
   "outputs": [
    {
     "name": "stdout",
     "output_type": "stream",
     "text": [
      "[[0 0 0 0]\n",
      " [0 0 0 0]\n",
      " [0 0 0 0]]\n"
     ]
    }
   ],
   "source": [
    "import numpy as np\n",
    "A2 = np.array([[1, 2, 3, 4],\n",
    "               [5, 6, 7, 8],\n",
    "               [9, 10, 11, 12]])\n",
    "\n",
    "B2 = np.array([[1, 2, 3, 4],\n",
    "               [5, 6, 7, 8],\n",
    "               [9, 10, 11, 12]])\n",
    "subtract = A2-B2\n",
    "print(subtract)"
   ]
  },
  {
   "cell_type": "code",
   "execution_count": null,
   "id": "aca23379-ab3f-4152-908b-44caff5ab5b0",
   "metadata": {},
   "outputs": [],
   "source": [
    "#Solution 11(5)"
   ]
  },
  {
   "cell_type": "code",
   "execution_count": 14,
   "id": "61773fbe-e3cc-4d43-ae61-a5434ba8961c",
   "metadata": {},
   "outputs": [
    {
     "name": "stdout",
     "output_type": "stream",
     "text": [
      "[[1. 1. 1. 1.]\n",
      " [1. 1. 1. 1.]\n",
      " [1. 1. 1. 1.]]\n"
     ]
    }
   ],
   "source": [
    "import numpy as np\n",
    "A2 = np.array([[1, 2, 3, 4],\n",
    "               [5, 6, 7, 8],\n",
    "               [9, 10, 11, 12]])\n",
    "\n",
    "B2 = np.array([[1, 2, 3, 4],\n",
    "               [5, 6, 7, 8],\n",
    "               [9, 10, 11, 12]])\n",
    "divide = B2/A2\n",
    "print(divide)"
   ]
  },
  {
   "cell_type": "code",
   "execution_count": null,
   "id": "c9f4d414-a03c-4cb8-ae9e-2e4cf3fe5780",
   "metadata": {},
   "outputs": [],
   "source": [
    "#Solution 12"
   ]
  },
  {
   "cell_type": "code",
   "execution_count": null,
   "id": "714b36bb-8f74-4790-86b2-3e091d22a543",
   "metadata": {},
   "outputs": [],
   "source": [
    "#In NumPy use the byteswap() method to swap the byte order of an array."
   ]
  },
  {
   "cell_type": "code",
   "execution_count": null,
   "id": "4b047570-12e7-4f39-a6bf-dff0ef1dde9a",
   "metadata": {},
   "outputs": [],
   "source": [
    "#Solution 13"
   ]
  },
  {
   "cell_type": "code",
   "execution_count": null,
   "id": "cd3a9a21-0fbb-4bdf-b19d-23b844734810",
   "metadata": {},
   "outputs": [],
   "source": [
    "#The np.linalg.inv() function in NumPy is used to compute the inverse of a square matrix."
   ]
  },
  {
   "cell_type": "code",
   "execution_count": null,
   "id": "a3dd061c-34cc-4018-a2ba-87f27c46e850",
   "metadata": {},
   "outputs": [],
   "source": [
    "#Solution 14"
   ]
  },
  {
   "cell_type": "code",
   "execution_count": null,
   "id": "0e101b10-2490-4b12-ad88-25231f657a92",
   "metadata": {},
   "outputs": [],
   "source": [
    "#The np.reshape() function in NumPy is used to change the shape of an array without changing its data. It allows you to reorganize the elements of an array into a new shape, as long as the total number of elements remains the same."
   ]
  },
  {
   "cell_type": "code",
   "execution_count": null,
   "id": "a9ee71c9-324a-4dc7-a100-a42f43724de1",
   "metadata": {},
   "outputs": [],
   "source": [
    "#Solution 15"
   ]
  },
  {
   "cell_type": "code",
   "execution_count": null,
   "id": "1ae248f8-4017-4e52-93fa-498be298b9df",
   "metadata": {},
   "outputs": [],
   "source": [
    "#Broadcasting is a fundamental concept in NumPy and is used extensively in array operations, mathematical functions, and more. Understanding broadcasting is essential for writing efficient and concise code when working with NumPy arrays.\n",
    "\n",
    "\n",
    "\n",
    "\n"
   ]
  }
 ],
 "metadata": {
  "kernelspec": {
   "display_name": "Python 3 (ipykernel)",
   "language": "python",
   "name": "python3"
  },
  "language_info": {
   "codemirror_mode": {
    "name": "ipython",
    "version": 3
   },
   "file_extension": ".py",
   "mimetype": "text/x-python",
   "name": "python",
   "nbconvert_exporter": "python",
   "pygments_lexer": "ipython3",
   "version": "3.10.8"
  }
 },
 "nbformat": 4,
 "nbformat_minor": 5
}
